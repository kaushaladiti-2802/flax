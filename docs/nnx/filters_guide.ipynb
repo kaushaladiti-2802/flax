{
 "cells": [
  {
   "cell_type": "markdown",
   "id": "95b08e64",
   "metadata": {},
   "source": [
    "# Using Filters\n",
    "\n",
    "Filters are used extensively in NNX as a way to create `State` groups in APIs\n",
    "such as `nnx.split` and `nnx.state`. For example:"
   ]
  },
  {
   "cell_type": "code",
   "execution_count": null,
   "id": "45485345",
   "metadata": {},
   "outputs": [],
   "source": [
    "from flax import nnx\n",
    "\n",
    "class Foo(nnx.Module):\n",
    "  def __init__(self):\n",
    "    self.a = nnx.Param(0)\n",
    "    self.b = nnx.BatchStat(True)\n",
    "\n",
    "foo = Foo()\n",
    "\n",
    "graphdef, params, batch_stats = nnx.split(foo, nnx.Param, nnx.BatchStat)\n",
    "\n",
    "print(f'{params = }')\n",
    "print(f'{batch_stats = }')"
   ]
  },
  {
   "cell_type": "markdown",
   "id": "8f77e99a",
   "metadata": {},
   "source": [
    "Here `nnx.Param` and `nnx.BatchStat` are used as Filters to split the model into two groups: one with the parameters and the other with the batch statistics. However this begs the questions:\n",
    "\n",
    "* What is a Filter?\n",
    "* Why are types, such as `Param` or `BatchStat`, Filters?\n",
    "* How is `State` grouped / filtered?"
   ]
  },
  {
   "cell_type": "markdown",
   "id": "a0413d64",
   "metadata": {},
   "source": [
    "## The Filter Protocol\n",
    "\n",
    "In general Filter are predicate functions of the form:\n",
    "\n",
    "```python\n",
    "\n",
    "def f(path: tuple[Key, ...], value: Any) -> bool:\n",
    "\n",
    "```\n",
    "where `Key` is a hashable and comparable type, `path` is a tuple of `Key`s representing the path to the value in a nested structure, and `value` is the value at the path. The function returns `True` if the value should be included in the group and `False` otherwise.\n",
    "\n",
    "Types are obviously not functions. The reason why types are used as Filters is because internally they are converted to functions. For example, `Param` is roughly converted to a function like this:"
   ]
  },
  {
   "cell_type": "code",
   "execution_count": null,
   "id": "30f4c868",
   "metadata": {},
   "outputs": [],
   "source": [
    "def is_param(path, value) -> bool:\n",
    "  return isinstance(value, nnx.Param) or (\n",
    "    hasattr(value, 'type') and issubclass(value.type, nnx.Param)\n",
    "  )"
   ]
  },
  {
   "cell_type": "markdown",
   "id": "a8a2641e",
   "metadata": {},
   "source": [
    "Such a function matches any value that is an instance of `Param` or any value that hash a `type` attribute that is an instance of a subclass of `Param`. Internally NNX uses `OfType` which creates a callable of the form for a given type."
   ]
  },
  {
   "cell_type": "code",
   "execution_count": null,
   "id": "b3095221",
   "metadata": {},
   "outputs": [],
   "source": [
    "is_param = nnx.OfType(nnx.Param)\n",
    "\n",
    "print(f'{is_param((), nnx.Param(0)) = }')\n",
    "print(f'{is_param((), nnx.VariableState(type=nnx.Param, value=0)) = }')"
   ]
  },
  {
   "cell_type": "markdown",
   "id": "87c06e39",
   "metadata": {},
   "source": [
    "## The Filter DSL\n",
    "\n",
    "To avoid users having to create these functions, NNX exposes a small\n",
    "DSL, formalized as the `nnx.filterlib.Filter` type, which lets users for common cases\n",
    "pass certain non-callable types such as types, booleans, ellipsis, tuples/lists, etc,\n",
    "and converts them to the appropriate callable internally.\n",
    "\n",
    "Here is a list of all the callable Filters included in NNX and their DSL literals (when available):\n",
    "\n",
    "\n",
    "| Literal | Callable | Description |\n",
    "|--------|----------------------|-------------|\n",
    "| `...` | `Everything()` | Matches all values |\n",
    "| `None` | `Nothing()` | Matches no values |\n",
    "| `True` | `Everything()` | Matches all values |\n",
    "| `False` | `Nothing()` | Matches no values |\n",
    "| `type` | `OfType(type)` | Matches values that are instances of `type` or have a `type` attribute that is an instance of `type` |\n",
    "| | `PathContains(key)` | Matches values that have an associated `path` that contains the given `key` |\n",
    "| `'{filter}'` | `WithTag('{filter}')` | Matches values that have string `tag` attribute equal to `'{filter}'` |\n",
    "| `(*filters)` | `Any(*filters)` | Matches values that match any of the inner `filters` |\n",
    "| `[*filters]` | `Any(*filters)` | Matches values that match all of the inner `filters` |\n",
    "| | `All(*filters)` | Matches values that match all of the inner `filters` |\n",
    "| | `Not(filter)` | Matches values that do not match the inner `filter` |\n",
    "\n",
    "If you wish to manually create a callable from a literal to can use `nnx.filterlib.to_predicate`:"
   ]
  },
  {
   "cell_type": "code",
   "execution_count": null,
   "id": "7e065fa9",
   "metadata": {},
   "outputs": [],
   "source": [
    "is_param = nnx.filterlib.to_predicate(nnx.Param)\n",
    "everything = nnx.filterlib.to_predicate(...)\n",
    "nothing = nnx.filterlib.to_predicate(False)\n",
    "any = nnx.filterlib.to_predicate([nnx.Param, 'dropout'])\n",
    "\n",
    "print(f'{type(is_param) = }')\n",
    "print(f'{type(everything) = }')\n",
    "print(f'{type(nothing) = }')\n",
    "print(f'{type(any) = }')"
   ]
  },
  {
   "cell_type": "markdown",
   "id": "db9b4cf3",
   "metadata": {},
   "source": [
    "## Grouping States\n",
    "\n",
    "With the knowledge of Filters at hand, let's see how `nnx.split` is roughly implemented. Key ideas:\n",
    "\n",
    "* Use `nnx.graph.flatten` to get the `GraphDef` and `State` representation of the node.\n",
    "* Convert all the filters to predicates.\n",
    "* Use `State.flat_state` to get the flat representation of the state.\n",
    "* Traverse all the `(path, value)` pairs in the flat state and group them according to the filters.\n",
    "* Use `State.from_flat_state` to convert the flat states to nested `State`s."
   ]
  },
  {
   "cell_type": "code",
   "execution_count": null,
   "id": "068208fc",
   "metadata": {},
   "outputs": [],
   "source": [
    "from typing import Any\n",
    "KeyPath = tuple[nnx.graph.Key, ...]\n",
    "\n",
    "def split(node, *filters):\n",
    "  graphdef, state, _ = nnx.graph.flatten(node)\n",
    "  predicates = [nnx.filterlib.to_predicate(f) for f in filters]\n",
    "  flat_states: list[dict[KeyPath, Any]] = [{} for p in predicates]\n",
    "\n",
    "  for path, value in state.flat_state().items():\n",
    "    for i, predicate in enumerate(predicates):\n",
    "      if predicate(path, value):\n",
    "        flat_states[i][path] = value\n",
    "        break\n",
    "    else:\n",
    "      raise ValueError(f'No filter matched {path = } {value = }')\n",
    "    \n",
    "  states: tuple[nnx.GraphState, ...] = tuple(\n",
    "    nnx.State.from_flat_path(flat_state) for flat_state in flat_states\n",
    "  )\n",
    "  return graphdef, *states\n",
    "\n",
    "# lets test it...\n",
    "foo = Foo()\n",
    "\n",
    "graphdef, params, batch_stats = split(foo, nnx.Param, nnx.BatchStat)\n",
    "\n",
    "print(f'{params = }')\n",
    "print(f'{batch_stats = }')"
   ]
  },
  {
   "cell_type": "markdown",
   "id": "7b3aeac8",
   "metadata": {},
   "source": [
    "One very important thing to note is that **the order of the filters is important**. The first filter that matches a value will be the group that the value is placed in, therefore you should place more specific filters before more general filters. For example if we create a `SpecialParam` type that is a subclass of `Param` and create an object `Bar` that contains both types of parameters, if we try to split the `Param`s before the `SpecialParam`s, all the values will be placed in the `Param` group and the `SpecialParam` group will be empty because all `SpecialParam`s are also `Param`s:"
   ]
  },
  {
   "cell_type": "code",
   "execution_count": null,
   "id": "014da4d4",
   "metadata": {},
   "outputs": [],
   "source": [
    "class SpecialParam(nnx.Param):\n",
    "  pass\n",
    "\n",
    "class Bar(nnx.Module):\n",
    "  def __init__(self):\n",
    "    self.a = nnx.Param(0)\n",
    "    self.b = SpecialParam(0)\n",
    "\n",
    "bar = Bar()\n",
    "\n",
    "graphdef, params, special_params = split(bar, nnx.Param, SpecialParam) # wrong!\n",
    "print(f'{params = }')\n",
    "print(f'{special_params = }')"
   ]
  },
  {
   "cell_type": "markdown",
   "id": "a9f0b7b8",
   "metadata": {},
   "source": [
    "Reversing the order will make sure that the `SpecialParam` are captured first"
   ]
  },
  {
   "cell_type": "code",
   "execution_count": null,
   "id": "a2ebf5b2",
   "metadata": {},
   "outputs": [],
   "source": [
    "graphdef, special_params, params = split(bar, SpecialParam, nnx.Param) # correct!\n",
    "print(f'{params = }')\n",
    "print(f'{special_params = }')"
   ]
  },
  {
   "cell_type": "code",
   "execution_count": null,
   "id": "b852ece9",
   "metadata": {},
   "outputs": [],
   "source": []
  }
 ],
 "metadata": {
  "jupytext": {
   "formats": "ipynb,md:myst"
  }
 },
 "nbformat": 4,
 "nbformat_minor": 5
}
